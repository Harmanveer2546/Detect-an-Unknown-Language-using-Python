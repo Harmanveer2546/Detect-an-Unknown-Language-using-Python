{
  "nbformat": 4,
  "nbformat_minor": 0,
  "metadata": {
    "colab": {
      "provenance": []
    },
    "kernelspec": {
      "name": "python3",
      "display_name": "Python 3"
    },
    "language_info": {
      "name": "python"
    }
  },
  "cells": [
    {
      "cell_type": "markdown",
      "source": [
        "# **Language Detection Using Natural Language Processing**"
      ],
      "metadata": {
        "id": "aj4RvKrBGLBc"
      }
    },
    {
      "cell_type": "markdown",
      "source": [
        "The idea behind language detection is based on the detection of the character among the expression and words in the text. The main principle is to detect commonly used words like to, of in English. \n",
        "\n"
      ],
      "metadata": {
        "id": "2feDyIAjHBE1"
      }
    },
    {
      "cell_type": "markdown",
      "source": [
        "**About NLP:**"
      ],
      "metadata": {
        "id": "vqL2c2ajQSZK"
      }
    },
    {
      "cell_type": "markdown",
      "source": [
        "Natural Language Processing (NLP) is a subfield of computer science and artificial intelligence that deals with the interaction between computers and human languages. The primary goal of NLP is to enable computers to understand, interpret, and generate natural language, the way humans do.\n",
        "\n",
        "NLP involves a variety of techniques, including computational linguistics, machine learning, and statistical modeling. These techniques are used to analyze, understand, and manipulate human language data, including text, speech, and other forms of communication.\n",
        "\n",
        "Some of the main applications of NLP include language translation, speech recognition, sentiment analysis, text classification, and information retrieval. NLP is used in a wide range of industries, including finance, healthcare, education, and entertainment, to name a few."
      ],
      "metadata": {
        "id": "IDzKrZE7QKA-"
      }
    },
    {
      "cell_type": "markdown",
      "source": [
        "**Imports and Loading Dataset:**"
      ],
      "metadata": {
        "id": "266-O1KWJEl6"
      }
    },
    {
      "cell_type": "code",
      "source": [
        "import pandas as pd\n",
        "import numpy as np\n",
        "import re\n",
        "import seaborn as sns\n",
        "import matplotlib.pyplot as plt"
      ],
      "metadata": {
        "id": "mQX3Wys_JE9j"
      },
      "execution_count": 1,
      "outputs": []
    },
    {
      "cell_type": "code",
      "source": [
        "#For warning-\n",
        "\n",
        "import warnings\n",
        "warnings.simplefilter(\"ignore\")"
      ],
      "metadata": {
        "id": "Murwj9PoJU62"
      },
      "execution_count": 2,
      "outputs": []
    },
    {
      "cell_type": "code",
      "source": [
        "#Loading Dataset-\n",
        "\n",
        "data = pd.read_csv(\"/Language Detection.csv\")"
      ],
      "metadata": {
        "id": "x0x6PzJFJcbE"
      },
      "execution_count": 3,
      "outputs": []
    },
    {
      "cell_type": "code",
      "source": [
        "#Value count for each language-\n",
        "\n",
        "data[\"Language\"].value_counts()"
      ],
      "metadata": {
        "colab": {
          "base_uri": "https://localhost:8080/"
        },
        "id": "JNLCATcFKP5q",
        "outputId": "9a08c782-7d23-4571-aeb8-1355cd98a8b5"
      },
      "execution_count": 4,
      "outputs": [
        {
          "output_type": "execute_result",
          "data": {
            "text/plain": [
              "English       1385\n",
              "French        1014\n",
              "Spanish        819\n",
              "Portugeese     739\n",
              "Italian        698\n",
              "Russian        692\n",
              "Sweedish       676\n",
              "Malayalam      594\n",
              "Dutch          546\n",
              "Arabic         536\n",
              "Turkish        474\n",
              "German         470\n",
              "Tamil          469\n",
              "Danish         428\n",
              "Kannada        369\n",
              "Greek          365\n",
              "Hindi           63\n",
              "Name: Language, dtype: int64"
            ]
          },
          "metadata": {},
          "execution_count": 4
        }
      ]
    },
    {
      "cell_type": "markdown",
      "source": [
        "**Separating Independent and Dependent features:**"
      ],
      "metadata": {
        "id": "w0HmwS6JKuOs"
      }
    },
    {
      "cell_type": "markdown",
      "source": [
        "Separating the dependent and independent variables, here text data is the independent variable and the language name is the dependent variable."
      ],
      "metadata": {
        "id": "ip2nuE_NLO5n"
      }
    },
    {
      "cell_type": "code",
      "source": [],
      "metadata": {
        "id": "xjMeC7UULs-e"
      },
      "execution_count": null,
      "outputs": []
    },
    {
      "cell_type": "code",
      "source": [
        "X = data[\"Text\"]\n",
        "y = data[\"Language\"]"
      ],
      "metadata": {
        "id": "Ot09ZNjlKtcP"
      },
      "execution_count": 5,
      "outputs": []
    },
    {
      "cell_type": "markdown",
      "source": [
        "**Using Label Encoding:**"
      ],
      "metadata": {
        "id": "7MXwlWycK_d2"
      }
    },
    {
      "cell_type": "markdown",
      "source": [
        "For training the model we should have to convert it into a numerical form, so we are performing label encoding on that output variable. For this process, we are importing LabelEncoder from sklearn."
      ],
      "metadata": {
        "id": "a8-8jpknLdhg"
      }
    },
    {
      "cell_type": "code",
      "source": [
        "from sklearn.preprocessing import LabelEncoder\n",
        "le = LabelEncoder()\n",
        "y = le.fit_transform(y)"
      ],
      "metadata": {
        "id": "7X1Mf3GdLArf"
      },
      "execution_count": 6,
      "outputs": []
    },
    {
      "cell_type": "code",
      "source": [
        "print(y)"
      ],
      "metadata": {
        "colab": {
          "base_uri": "https://localhost:8080/"
        },
        "id": "EBth7wSxLZFc",
        "outputId": "8913d735-16c4-4428-b942-1a839decc3e7"
      },
      "execution_count": 7,
      "outputs": [
        {
          "output_type": "stream",
          "name": "stdout",
          "text": [
            "[3 3 3 ... 9 9 9]\n"
          ]
        }
      ]
    },
    {
      "cell_type": "markdown",
      "source": [
        "**Text Preprocessing:**"
      ],
      "metadata": {
        "id": "ja-CFYAmLmhy"
      }
    },
    {
      "cell_type": "markdown",
      "source": [
        "This is a dataset created using scraping the Wikipedia, so it contains many unwanted symbols, numbers which will affect the quality of our model. So we should perform text preprocessing techniques."
      ],
      "metadata": {
        "id": "CqHuyhlEMOmQ"
      }
    },
    {
      "cell_type": "code",
      "source": [
        "#Creating a list for appending the preprocessed text-\n",
        "\n",
        "data_list = []"
      ],
      "metadata": {
        "id": "_sf98wCOLmAb"
      },
      "execution_count": 8,
      "outputs": []
    },
    {
      "cell_type": "code",
      "source": [
        "#Iterating through all the text-\n",
        "\n",
        "for text in X:\n",
        "\n",
        "       # removing the symbols and numbers\n",
        "        text = re.sub(r'[!@#$(),n\"%^*?:;~`0-9]', ' ', text)\n",
        "        text = re.sub(r'[[]]', ' ', text)\n",
        "\n",
        "        # converting the text to lower case\n",
        "        text = text.lower()\n",
        "        \n",
        "        # appending to data_list\n",
        "        data_list.append(text)"
      ],
      "metadata": {
        "id": "nx71F3KsMAQI"
      },
      "execution_count": 9,
      "outputs": []
    },
    {
      "cell_type": "markdown",
      "source": [
        "**Bag of Words:**"
      ],
      "metadata": {
        "id": "g3TlZ7EwMX3z"
      }
    },
    {
      "cell_type": "markdown",
      "source": [
        "As we all know that, not only the output feature but also the input feature should be of the numerical form. So we are converting text into numerical form by creating a Bag of Words model using CountVectorizer."
      ],
      "metadata": {
        "id": "hhrAJD44Mdv6"
      }
    },
    {
      "cell_type": "code",
      "source": [
        "from sklearn.feature_extraction.text import CountVectorizer\n",
        "\n",
        "cv = CountVectorizer()\n",
        "X = cv.fit_transform(data_list).toarray()\n",
        "X.shape "
      ],
      "metadata": {
        "colab": {
          "base_uri": "https://localhost:8080/"
        },
        "id": "pnhxT3qrMhrl",
        "outputId": "01788f1b-1163-4d41-9a1c-b16323eacbed"
      },
      "execution_count": 10,
      "outputs": [
        {
          "output_type": "execute_result",
          "data": {
            "text/plain": [
              "(10337, 34937)"
            ]
          },
          "metadata": {},
          "execution_count": 10
        }
      ]
    },
    {
      "cell_type": "markdown",
      "source": [
        "**Train Test Splitting:**"
      ],
      "metadata": {
        "id": "Ek49YOFzMrn6"
      }
    },
    {
      "cell_type": "code",
      "source": [
        "from sklearn.model_selection import train_test_split\n",
        "x_train, x_test, y_train, y_test = train_test_split(X, y, test_size = 0.20)"
      ],
      "metadata": {
        "id": "8DBIdYvkMxVp"
      },
      "execution_count": 11,
      "outputs": []
    },
    {
      "cell_type": "code",
      "source": [
        "print('\\nX_train:\\n', x_train)\n",
        "print('\\nX_test:\\n',x_test)\n",
        "print('\\nY_train:\\n',y_train)\n",
        "print('\\nY_test:\\n',y_test)"
      ],
      "metadata": {
        "colab": {
          "base_uri": "https://localhost:8080/"
        },
        "id": "2ngIy_dhM2so",
        "outputId": "6d7eb0c0-8d2d-4f6d-ebd7-374180653567"
      },
      "execution_count": 16,
      "outputs": [
        {
          "output_type": "stream",
          "name": "stdout",
          "text": [
            "\n",
            "X_train:\n",
            " [[0 0 0 ... 0 0 0]\n",
            " [0 0 0 ... 0 0 0]\n",
            " [0 0 0 ... 0 0 0]\n",
            " ...\n",
            " [0 0 0 ... 0 0 0]\n",
            " [0 0 0 ... 0 0 0]\n",
            " [0 0 0 ... 0 0 0]]\n",
            "\n",
            "X_test:\n",
            " [[0 0 0 ... 0 0 0]\n",
            " [0 0 0 ... 0 0 0]\n",
            " [0 0 0 ... 0 0 0]\n",
            " ...\n",
            " [0 0 0 ... 0 0 0]\n",
            " [0 0 0 ... 0 0 0]\n",
            " [0 0 0 ... 0 0 0]]\n",
            "\n",
            "Y_train:\n",
            " [ 4 10  0 ...  4  0  3]\n",
            "\n",
            "Y_test:\n",
            " [ 2  3 16 ... 11 14  7]\n"
          ]
        }
      ]
    },
    {
      "cell_type": "markdown",
      "source": [
        "**Model Training and Prediction:**"
      ],
      "metadata": {
        "id": "Ph1-S9ZDNnNe"
      }
    },
    {
      "cell_type": "code",
      "source": [
        "from sklearn.naive_bayes import MultinomialNB\n",
        "\n",
        "model = MultinomialNB()\n",
        "model.fit(x_train, y_train)"
      ],
      "metadata": {
        "colab": {
          "base_uri": "https://localhost:8080/",
          "height": 75
        },
        "id": "G8NrrSuxNp2A",
        "outputId": "ab65a0fc-c7ff-4560-ac58-58b19ada69f6"
      },
      "execution_count": 17,
      "outputs": [
        {
          "output_type": "execute_result",
          "data": {
            "text/plain": [
              "MultinomialNB()"
            ],
            "text/html": [
              "<style>#sk-container-id-1 {color: black;background-color: white;}#sk-container-id-1 pre{padding: 0;}#sk-container-id-1 div.sk-toggleable {background-color: white;}#sk-container-id-1 label.sk-toggleable__label {cursor: pointer;display: block;width: 100%;margin-bottom: 0;padding: 0.3em;box-sizing: border-box;text-align: center;}#sk-container-id-1 label.sk-toggleable__label-arrow:before {content: \"▸\";float: left;margin-right: 0.25em;color: #696969;}#sk-container-id-1 label.sk-toggleable__label-arrow:hover:before {color: black;}#sk-container-id-1 div.sk-estimator:hover label.sk-toggleable__label-arrow:before {color: black;}#sk-container-id-1 div.sk-toggleable__content {max-height: 0;max-width: 0;overflow: hidden;text-align: left;background-color: #f0f8ff;}#sk-container-id-1 div.sk-toggleable__content pre {margin: 0.2em;color: black;border-radius: 0.25em;background-color: #f0f8ff;}#sk-container-id-1 input.sk-toggleable__control:checked~div.sk-toggleable__content {max-height: 200px;max-width: 100%;overflow: auto;}#sk-container-id-1 input.sk-toggleable__control:checked~label.sk-toggleable__label-arrow:before {content: \"▾\";}#sk-container-id-1 div.sk-estimator input.sk-toggleable__control:checked~label.sk-toggleable__label {background-color: #d4ebff;}#sk-container-id-1 div.sk-label input.sk-toggleable__control:checked~label.sk-toggleable__label {background-color: #d4ebff;}#sk-container-id-1 input.sk-hidden--visually {border: 0;clip: rect(1px 1px 1px 1px);clip: rect(1px, 1px, 1px, 1px);height: 1px;margin: -1px;overflow: hidden;padding: 0;position: absolute;width: 1px;}#sk-container-id-1 div.sk-estimator {font-family: monospace;background-color: #f0f8ff;border: 1px dotted black;border-radius: 0.25em;box-sizing: border-box;margin-bottom: 0.5em;}#sk-container-id-1 div.sk-estimator:hover {background-color: #d4ebff;}#sk-container-id-1 div.sk-parallel-item::after {content: \"\";width: 100%;border-bottom: 1px solid gray;flex-grow: 1;}#sk-container-id-1 div.sk-label:hover label.sk-toggleable__label {background-color: #d4ebff;}#sk-container-id-1 div.sk-serial::before {content: \"\";position: absolute;border-left: 1px solid gray;box-sizing: border-box;top: 0;bottom: 0;left: 50%;z-index: 0;}#sk-container-id-1 div.sk-serial {display: flex;flex-direction: column;align-items: center;background-color: white;padding-right: 0.2em;padding-left: 0.2em;position: relative;}#sk-container-id-1 div.sk-item {position: relative;z-index: 1;}#sk-container-id-1 div.sk-parallel {display: flex;align-items: stretch;justify-content: center;background-color: white;position: relative;}#sk-container-id-1 div.sk-item::before, #sk-container-id-1 div.sk-parallel-item::before {content: \"\";position: absolute;border-left: 1px solid gray;box-sizing: border-box;top: 0;bottom: 0;left: 50%;z-index: -1;}#sk-container-id-1 div.sk-parallel-item {display: flex;flex-direction: column;z-index: 1;position: relative;background-color: white;}#sk-container-id-1 div.sk-parallel-item:first-child::after {align-self: flex-end;width: 50%;}#sk-container-id-1 div.sk-parallel-item:last-child::after {align-self: flex-start;width: 50%;}#sk-container-id-1 div.sk-parallel-item:only-child::after {width: 0;}#sk-container-id-1 div.sk-dashed-wrapped {border: 1px dashed gray;margin: 0 0.4em 0.5em 0.4em;box-sizing: border-box;padding-bottom: 0.4em;background-color: white;}#sk-container-id-1 div.sk-label label {font-family: monospace;font-weight: bold;display: inline-block;line-height: 1.2em;}#sk-container-id-1 div.sk-label-container {text-align: center;}#sk-container-id-1 div.sk-container {/* jupyter's `normalize.less` sets `[hidden] { display: none; }` but bootstrap.min.css set `[hidden] { display: none !important; }` so we also need the `!important` here to be able to override the default hidden behavior on the sphinx rendered scikit-learn.org. See: https://github.com/scikit-learn/scikit-learn/issues/21755 */display: inline-block !important;position: relative;}#sk-container-id-1 div.sk-text-repr-fallback {display: none;}</style><div id=\"sk-container-id-1\" class=\"sk-top-container\"><div class=\"sk-text-repr-fallback\"><pre>MultinomialNB()</pre><b>In a Jupyter environment, please rerun this cell to show the HTML representation or trust the notebook. <br />On GitHub, the HTML representation is unable to render, please try loading this page with nbviewer.org.</b></div><div class=\"sk-container\" hidden><div class=\"sk-item\"><div class=\"sk-estimator sk-toggleable\"><input class=\"sk-toggleable__control sk-hidden--visually\" id=\"sk-estimator-id-1\" type=\"checkbox\" checked><label for=\"sk-estimator-id-1\" class=\"sk-toggleable__label sk-toggleable__label-arrow\">MultinomialNB</label><div class=\"sk-toggleable__content\"><pre>MultinomialNB()</pre></div></div></div></div></div>"
            ]
          },
          "metadata": {},
          "execution_count": 17
        }
      ]
    },
    {
      "cell_type": "code",
      "source": [
        "#predict the output for the test set-\n",
        "\n",
        "y_pred = model.predict(x_test)"
      ],
      "metadata": {
        "id": "Khi7Xr68NyIk"
      },
      "execution_count": 18,
      "outputs": []
    },
    {
      "cell_type": "markdown",
      "source": [
        "**Model Evaluation:**"
      ],
      "metadata": {
        "id": "UcUZhH_GN-FA"
      }
    },
    {
      "cell_type": "code",
      "source": [
        "from sklearn.metrics import accuracy_score, confusion_matrix, classification_report\n",
        "\n",
        "ac = accuracy_score(y_test, y_pred)\n",
        "cm = confusion_matrix(y_test, y_pred)\n",
        "cr = classification_report(y_test, y_pred)"
      ],
      "metadata": {
        "id": "3YE7GmLgOAqx"
      },
      "execution_count": 23,
      "outputs": []
    },
    {
      "cell_type": "code",
      "source": [
        "#Accuracy-\n",
        "\n",
        "print(\"Accuracy is :\",ac)"
      ],
      "metadata": {
        "colab": {
          "base_uri": "https://localhost:8080/"
        },
        "id": "5SGIcicDOIkY",
        "outputId": "a68c250a-76d7-4e5f-897f-463eaa1a7869"
      },
      "execution_count": 20,
      "outputs": [
        {
          "output_type": "stream",
          "name": "stdout",
          "text": [
            "Accuracy is : 0.9796905222437138\n"
          ]
        }
      ]
    },
    {
      "cell_type": "code",
      "source": [
        "#Confusion Matrix-\n",
        "\n",
        "print(\"Confusion Matrix is :\",cm)"
      ],
      "metadata": {
        "colab": {
          "base_uri": "https://localhost:8080/"
        },
        "id": "kGwIsdqKONr2",
        "outputId": "29f56130-2dc0-4f27-b4e2-594bcb092e9a"
      },
      "execution_count": 21,
      "outputs": [
        {
          "output_type": "stream",
          "name": "stdout",
          "text": [
            "Confusion Matrix is : [[106   0   0   6   0   0   0   0   0   0   0   0   0   0   0   0   0]\n",
            " [  0  83   0   3   1   0   0   0   0   0   0   0   0   0   1   0   0]\n",
            " [  0   0  95   2   0   0   0   0   0   0   0   0   0   0   0   0   0]\n",
            " [  0   0   0 289   0   0   0   0   0   0   1   0   0   0   0   0   0]\n",
            " [  0   0   0   1 188   0   0   0   0   0   0   0   0   0   0   0   0]\n",
            " [  0   0   0   2   0  79   0   0   0   0   0   0   0   0   0   0   0]\n",
            " [  0   0   0   2   0   0  72   0   0   0   1   0   0   0   0   0   0]\n",
            " [  0   0   0   1   0   0   0  16   0   0   0   0   0   0   0   0   0]\n",
            " [  0   0   0   0   0   0   0   0 126   0   0   1   0   1   0   0   0]\n",
            " [  0   0   0   1   0   0   0   0   0  70   0   0   0   0   0   0   0]\n",
            " [  0   0   0   2   0   0   0   0   0   0 113   0   0   0   0   0   0]\n",
            " [  0   0   0   1   0   0   0   0   0   0   0 136   0   0   0   0   0]\n",
            " [  0   0   0   1   0   0   0   0   0   0   0   0 145   0   0   0   0]\n",
            " [  0   0   0   2   0   0   0   0   1   0   0   0   0 179   0   0   0]\n",
            " [  0   0   0   1   1   0   0   0   0   0   0   0   0   0 129   0   0]\n",
            " [  0   0   0   3   0   0   0   0   0   0   0   0   0   0   0  79   0]\n",
            " [  0   0   0   3   1   0   0   0   0   0   0   0   0   2   0   0 121]]\n"
          ]
        }
      ]
    },
    {
      "cell_type": "code",
      "source": [
        "#Classification_report-\n",
        "\n",
        "print(\"Classification report is :\",cr)"
      ],
      "metadata": {
        "colab": {
          "base_uri": "https://localhost:8080/"
        },
        "id": "DHpF6ST1Oarc",
        "outputId": "706dad97-e4ca-4ffe-9846-0eff1856558f"
      },
      "execution_count": 24,
      "outputs": [
        {
          "output_type": "stream",
          "name": "stdout",
          "text": [
            "Classification report is :               precision    recall  f1-score   support\n",
            "\n",
            "           0       1.00      0.95      0.97       112\n",
            "           1       1.00      0.94      0.97        88\n",
            "           2       1.00      0.98      0.99        97\n",
            "           3       0.90      1.00      0.95       290\n",
            "           4       0.98      0.99      0.99       189\n",
            "           5       1.00      0.98      0.99        81\n",
            "           6       1.00      0.96      0.98        75\n",
            "           7       1.00      0.94      0.97        17\n",
            "           8       0.99      0.98      0.99       128\n",
            "           9       1.00      0.99      0.99        71\n",
            "          10       0.98      0.98      0.98       115\n",
            "          11       0.99      0.99      0.99       137\n",
            "          12       1.00      0.99      1.00       146\n",
            "          13       0.98      0.98      0.98       182\n",
            "          14       0.99      0.98      0.99       131\n",
            "          15       1.00      0.96      0.98        82\n",
            "          16       1.00      0.95      0.98       127\n",
            "\n",
            "    accuracy                           0.98      2068\n",
            "   macro avg       0.99      0.97      0.98      2068\n",
            "weighted avg       0.98      0.98      0.98      2068\n",
            "\n"
          ]
        }
      ]
    },
    {
      "cell_type": "code",
      "source": [
        "#Plot the confusion matrix using the seaborn heatmap-\n",
        "\n",
        "plt.figure(figsize=(15,10))\n",
        "sns.heatmap(cm, annot = True)\n",
        "plt.show()"
      ],
      "metadata": {
        "colab": {
          "base_uri": "https://localhost:8080/",
          "height": 830
        },
        "id": "HIyJohwMO9y2",
        "outputId": "35f90b46-4d1b-4e3b-a86d-9d1d5733c181"
      },
      "execution_count": 25,
      "outputs": [
        {
          "output_type": "display_data",
          "data": {
            "text/plain": [
              "<Figure size 1500x1000 with 2 Axes>"
            ],
            "image/png": "[encoded data removed]"
          },
          "metadata": {}
        }
      ]
    },
    {
      "cell_type": "markdown",
      "source": [
        "**Predicting Some more Data:**"
      ],
      "metadata": {
        "id": "-5BhqDZEPKUW"
      }
    },
    {
      "cell_type": "markdown",
      "source": [
        "Testing the model prediction using text in different languages."
      ],
      "metadata": {
        "id": "c9sKH_RuPS8h"
      }
    },
    {
      "cell_type": "code",
      "source": [
        "def predict(text):\n",
        "    x = cv.transform([text]).toarray()\n",
        "    lang = model.predict(x)\n",
        "    lang = le.inverse_transform(lang)\n",
        "    print(\"The langauge is in\",lang[0])"
      ],
      "metadata": {
        "id": "tL3C9oAkPPu1"
      },
      "execution_count": 26,
      "outputs": []
    },
    {
      "cell_type": "code",
      "source": [
        "predict(\"How are you?\")"
      ],
      "metadata": {
        "colab": {
          "base_uri": "https://localhost:8080/"
        },
        "id": "SKBxjAKRPfyy",
        "outputId": "718a3103-f597-43bb-d906-48b7f646de73"
      },
      "execution_count": 40,
      "outputs": [
        {
          "output_type": "stream",
          "name": "stdout",
          "text": [
            "The langauge is in English\n"
          ]
        }
      ]
    },
    {
      "cell_type": "code",
      "source": [
        "predict(\"Je te rencontre au café.\")"
      ],
      "metadata": {
        "colab": {
          "base_uri": "https://localhost:8080/"
        },
        "id": "EcCefvGFPmvd",
        "outputId": "eaf74e91-659c-4e9e-8cb5-9a1b07ce50f3"
      },
      "execution_count": 35,
      "outputs": [
        {
          "output_type": "stream",
          "name": "stdout",
          "text": [
            "The langauge is in French\n"
          ]
        }
      ]
    },
    {
      "cell_type": "code",
      "source": [
        "predict(\"كيف حالك\")"
      ],
      "metadata": {
        "colab": {
          "base_uri": "https://localhost:8080/"
        },
        "id": "5wvNyWCWPs21",
        "outputId": "cf0af3fe-adef-494d-cd21-b8badd91b51e"
      },
      "execution_count": 41,
      "outputs": [
        {
          "output_type": "stream",
          "name": "stdout",
          "text": [
            "The langauge is in Arabic\n"
          ]
        }
      ]
    },
    {
      "cell_type": "code",
      "source": [
        "predict(\"cumplir su condena\")"
      ],
      "metadata": {
        "colab": {
          "base_uri": "https://localhost:8080/"
        },
        "id": "ZbCl_jRiP19l",
        "outputId": "eeb6a4d9-5f7c-467c-be7c-5233110e2409"
      },
      "execution_count": 37,
      "outputs": [
        {
          "output_type": "stream",
          "name": "stdout",
          "text": [
            "The langauge is in Spanish\n"
          ]
        }
      ]
    },
    {
      "cell_type": "code",
      "source": [
        "predict(\"മലയാളം : ഇന്ത്യൻ സംസ്ഥാനമായ കേരളത്തിലും കേന്ദ്രഭരണ പ്രദേശങ്ങളായ ലക്ഷദ്വീപിലെയും പുതുച്ചേരിയിലെയും (മാഹി ജില്ല) മലയാളികൾ സംസാരിക്കുന്ന ഒരു ദ്രാവിഡ ഭാഷയാണ് മലയാളം\")"
      ],
      "metadata": {
        "colab": {
          "base_uri": "https://localhost:8080/"
        },
        "id": "ObgyMSKjP65P",
        "outputId": "7a15b4e7-d757-4571-a839-b4993ac14665"
      },
      "execution_count": 39,
      "outputs": [
        {
          "output_type": "stream",
          "name": "stdout",
          "text": [
            "The langauge is in Malayalam\n"
          ]
        }
      ]
    },
    {
      "cell_type": "code",
      "source": [
        "predict(\"Скажите пожалуйста, как пройти в палату?\")"
      ],
      "metadata": {
        "colab": {
          "base_uri": "https://localhost:8080/"
        },
        "id": "GK4mhPIlP-CW",
        "outputId": "65662a4d-f9a1-4ef6-e6cc-f6c434f9d992"
      },
      "execution_count": 38,
      "outputs": [
        {
          "output_type": "stream",
          "name": "stdout",
          "text": [
            "The langauge is in Russian\n"
          ]
        }
      ]
    }
  ]
}